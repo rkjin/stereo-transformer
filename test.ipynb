{
 "cells": [
  {
   "cell_type": "code",
   "execution_count": 1,
   "metadata": {},
   "outputs": [
    {
     "data": {
      "text/plain": [
       "{'a': 2, 'b': 2}"
      ]
     },
     "execution_count": 1,
     "metadata": {},
     "output_type": "execute_result"
    }
   ],
   "source": [
    "a = {\"a\": 1, \"a\":2, \"b\":2}\n",
    "a"
   ]
  },
  {
   "cell_type": "code",
   "execution_count": 4,
   "metadata": {},
   "outputs": [
    {
     "name": "stdout",
     "output_type": "stream",
     "text": [
      "['1 ft 5 in', '10 ft 2 in', '2 ft 11 in', '2 ft 7 in', '7 ft 6 in']\n",
      "['1 ft 5 in', '2 ft 7 in', '2 ft 11 in', '7 ft 6 in', '10 ft 2 in']\n",
      "['1 ft 5 in', '2 ft 2 in', '2 ft 7 in', '2 ft 11 in', '3 ft 3 in', '4 ft 4 in', '7 ft 6 in', '7 ft 7 in', '10 ft 2 in']\n"
     ]
    }
   ],
   "source": [
    "from natsort import natsorted\n",
    "a = ['2 ft 7 in', '1 ft 5 in', '10 ft 2 in', '2 ft 11 in', '7 ft 6 in']\n",
    "b = ['3 ft 3 in', '4 ft 4 in', '7 ft 7 in', '2 ft 2 in']\n",
    "print(sorted(a))\n",
    "print(natsorted(a))\n",
    "print(natsorted(a + b))"
   ]
  },
  {
   "cell_type": "code",
   "execution_count": 6,
   "metadata": {},
   "outputs": [
    {
     "ename": "TypeError",
     "evalue": "'int' object is not subscriptable",
     "output_type": "error",
     "traceback": [
      "\u001b[0;31m---------------------------------------------------------------------------\u001b[0m",
      "\u001b[0;31mTypeError\u001b[0m                                 Traceback (most recent call last)",
      "Cell \u001b[0;32mIn[6], line 3\u001b[0m\n\u001b[1;32m      1\u001b[0m a \u001b[38;5;241m=\u001b[39m {\u001b[38;5;124m'\u001b[39m\u001b[38;5;124ma\u001b[39m\u001b[38;5;124m'\u001b[39m: \u001b[38;5;241m1\u001b[39m}\n\u001b[1;32m      2\u001b[0m a \u001b[38;5;241m=\u001b[39m \u001b[38;5;241m3\u001b[39m\n\u001b[0;32m----> 3\u001b[0m \u001b[43ma\u001b[49m\u001b[43m[\u001b[49m\u001b[38;5;124;43m'\u001b[39;49m\u001b[38;5;124;43ma\u001b[39;49m\u001b[38;5;124;43m'\u001b[39;49m\u001b[43m]\u001b[49m\n",
      "\u001b[0;31mTypeError\u001b[0m: 'int' object is not subscriptable"
     ]
    }
   ],
   "source": [
    "a = {'a': 1}\n",
    "a = 3\n",
    "a['a']"
   ]
  },
  {
   "cell_type": "code",
   "execution_count": 42,
   "metadata": {},
   "outputs": [
    {
     "data": {
      "text/plain": [
       "array([[96., 96., 96., ..., 96., 96., 96.],\n",
       "       [96., 96., 96., ..., 96., 96., 96.],\n",
       "       [96., 96., 96., ..., 96., 96., 96.],\n",
       "       ...,\n",
       "       [96., 96., 96., ..., 96., 96., 96.],\n",
       "       [96., 96., 96., ..., 96., 96., 96.],\n",
       "       [96., 96., 96., ..., 96., 96., 96.]])"
      ]
     },
     "execution_count": 42,
     "metadata": {},
     "output_type": "execute_result"
    }
   ],
   "source": [
    "import torch\n",
    "from PIL import Image\n",
    "import torchvision.transforms as t\n",
    "import numpy as np\n",
    "i = torch.zeros(10000).view(100,100).float()\n",
    "i = i + 100000 \n",
    "trans = t.ToPILImage()\n",
    "i = trans(i)\n",
    "np.array(i).astype( float) \n"
   ]
  },
  {
   "cell_type": "code",
   "execution_count": 102,
   "metadata": {},
   "outputs": [
    {
     "name": "stdout",
     "output_type": "stream",
     "text": [
      "[[5. 5. 5. 5. 0.]\n",
      " [0. 5. 5. 5. 5.]\n",
      " [0. 5. 0. 5. 0.]\n",
      " [5. 0. 0. 0. 5.]\n",
      " [5. 5. 5. 0. 5.]]\n"
     ]
    },
    {
     "data": {
      "text/plain": [
       "(5, 5)"
      ]
     },
     "execution_count": 102,
     "metadata": {},
     "output_type": "execute_result"
    }
   ],
   "source": [
    "import numpy as np\n",
    "i = np.arange(25).reshape(5,5) \n",
    "i[None]\n",
    "\n",
    "a = np.random.randint(2, size=25).reshape(5,5)\n",
    "b = np.zeros((5,5))\n",
    "a = a == 1\n",
    "b[a] = 5\n",
    "print(b)\n",
    "a.size\n",
    "a.shape"
   ]
  },
  {
   "cell_type": "code",
   "execution_count": 96,
   "metadata": {},
   "outputs": [
    {
     "name": "stdout",
     "output_type": "stream",
     "text": [
      "hahaha\n"
     ]
    }
   ],
   "source": [
    "def a():\n",
    "    print(\"hahaha\")\n",
    "\n",
    "class b():\n",
    "    def __init__(self, f):\n",
    "        self.func = f\n",
    "    def __call__(self):   \n",
    "        self.func() \n",
    " \n",
    "c = b(a)\n",
    "c()     "
   ]
  },
  {
   "cell_type": "code",
   "execution_count": 100,
   "metadata": {},
   "outputs": [
    {
     "data": {
      "text/plain": [
       "(torch.Size([5, 5]), torch.Size([5, 5]))"
      ]
     },
     "execution_count": 100,
     "metadata": {},
     "output_type": "execute_result"
    }
   ],
   "source": [
    "import torch\n",
    "a = torch.arange(25).view(5,5)\n",
    "a.size() , a.shape"
   ]
  },
  {
   "cell_type": "code",
   "execution_count": 123,
   "metadata": {},
   "outputs": [
    {
     "name": "stdout",
     "output_type": "stream",
     "text": [
      "1\n",
      "1.0\n",
      "1.1\n",
      "(1+1j)\n",
      "(2, 3)\n",
      "16\n",
      "0b10000000\n",
      "0o200\n",
      "0x80\n"
     ]
    },
    {
     "data": {
      "text/plain": [
       "['fale',\n",
       " 'fale',\n",
       " 'fale',\n",
       " 'fale',\n",
       " 'fale',\n",
       " 'fale',\n",
       " 'pass',\n",
       " 'pass',\n",
       " 'pass',\n",
       " 'pass']"
      ]
     },
     "execution_count": 123,
     "metadata": {},
     "output_type": "execute_result"
    }
   ],
   "source": [
    "print(int(1.1))\n",
    "print(float(1))\n",
    "print(abs(-1.1))\n",
    "print(complex(1,1))\n",
    "print(divmod(13,5))\n",
    "print(pow(2, 4))\n",
    "\n",
    "print(bin(128))\n",
    "print(oct(128))\n",
    "print(hex(128))\n",
    "\n",
    "A = [1,2,3,4,5,6,7,8,9]\n",
    "A[2::5], A[2:5]    \n",
    "A * 2\n",
    "list = [i + j for i in range(1,10) for j in range(1,5)] # 다중 for 문 \n",
    "list = ['pass' if i > 5 else 'fale' for i in range(10)]\n",
    "list"
   ]
  },
  {
   "cell_type": "code",
   "execution_count": 125,
   "metadata": {},
   "outputs": [
    {
     "name": "stdout",
     "output_type": "stream",
     "text": [
      "a 1\n",
      "b 2\n"
     ]
    }
   ],
   "source": [
    "d = dict(a = 1, b = 2)\n",
    "\n",
    "for key, value in d.items():\n",
    "\tprint(key, value)"
   ]
  },
  {
   "cell_type": "code",
   "execution_count": 16,
   "metadata": {},
   "outputs": [
    {
     "data": {
      "text/plain": [
       "[9, 8, 7, 6, 5, 4, 3, 2, 1]"
      ]
     },
     "execution_count": 16,
     "metadata": {},
     "output_type": "execute_result"
    }
   ],
   "source": [
    "a = [1,2,3,4,5,6,7,8,9]\n",
    "a.reverse() \n",
    "a\n"
   ]
  },
  {
   "cell_type": "code",
   "execution_count": 14,
   "metadata": {},
   "outputs": [
    {
     "data": {
      "text/plain": [
       "tensor([0.0000, 0.5556, 1.1111, 1.6667, 2.2222, 2.7778, 3.3333, 3.8889, 4.4444,\n",
       "        5.0000])"
      ]
     },
     "execution_count": 14,
     "metadata": {},
     "output_type": "execute_result"
    }
   ],
   "source": [
    "import torch\n",
    "a = torch.linspace(0, 5, steps=10 )\n",
    "a"
   ]
  },
  {
   "cell_type": "code",
   "execution_count": 2,
   "metadata": {},
   "outputs": [
    {
     "data": {
      "text/plain": [
       "1.1547819846894583"
      ]
     },
     "execution_count": 2,
     "metadata": {},
     "output_type": "execute_result"
    }
   ],
   "source": [
    "10000** (2 * (2 // 2) / 128)"
   ]
  },
  {
   "cell_type": "code",
   "execution_count": 29,
   "metadata": {},
   "outputs": [
    {
     "data": {
      "text/plain": [
       "tensor([[[[ 0.,  0.,  0.,  0.],\n",
       "          [ 6.,  6.,  6.,  6.],\n",
       "          [12., 12., 12., 12.]]]])"
      ]
     },
     "execution_count": 29,
     "metadata": {},
     "output_type": "execute_result"
    }
   ],
   "source": [
    "import torch\n",
    "a = torch.arange(25).view(1,1,5,5).float()\n",
    "\n",
    "i = torch.tensor([[[[0,0,0,0],\n",
    "                    [1,1,1,1],\n",
    "                    [2,2,2,2]]]],dtype=torch.int64)\n",
    "out = torch.gather(a, dim = 3, index = i)\n",
    "out\n",
    "\n"
   ]
  },
  {
   "cell_type": "code",
   "execution_count": 23,
   "metadata": {},
   "outputs": [
    {
     "name": "stdout",
     "output_type": "stream",
     "text": [
      "3\n",
      "4\n",
      "5\n",
      "6\n"
     ]
    }
   ],
   "source": [
    "for i in range(3 , 7):\n",
    "    print(i)"
   ]
  },
  {
   "cell_type": "code",
   "execution_count": 31,
   "metadata": {},
   "outputs": [
    {
     "data": {
      "text/plain": [
       "tensor([0, 1, 2, 1, 2, 3, 2, 3, 4])"
      ]
     },
     "execution_count": 31,
     "metadata": {},
     "output_type": "execute_result"
    }
   ],
   "source": [
    "import torch\n",
    "a = torch.arange(3).view(3,1)\n",
    "b = torch.arange(3).view(1,3)\n",
    "(a + b).view(-1)"
   ]
  },
  {
   "cell_type": "code",
   "execution_count": 28,
   "metadata": {},
   "outputs": [
    {
     "name": "stderr",
     "output_type": "stream",
     "text": [
      "/home/bj/data/dnn/torch/lib/python3.10/site-packages/torch/utils/checkpoint.py:31: UserWarning: None of the inputs have requires_grad=True. Gradients will be None\n",
      "  warnings.warn(\"None of the inputs have requires_grad=True. Gradients will be None\")\n"
     ]
    },
    {
     "data": {
      "text/plain": [
       "120"
      ]
     },
     "execution_count": 28,
     "metadata": {},
     "output_type": "execute_result"
    }
   ],
   "source": [
    "import torch\n",
    "from torch.utils.checkpoint import checkpoint\n",
    "\n",
    "def a(module):\n",
    "    def b(*input):\n",
    "        return module(*input)\n",
    "    return b \n",
    "def module(a, b, c):\n",
    "    return a * b * c  \n",
    "\n",
    "c = checkpoint(a(module) , 4,5,6 )\n",
    "\n",
    "c"
   ]
  },
  {
   "cell_type": "code",
   "execution_count": 32,
   "metadata": {},
   "outputs": [
    {
     "name": "stdout",
     "output_type": "stream",
     "text": [
      "torch.Size([384, 128]) Parameter containing:\n",
      "tensor([[ 0.0171,  0.0072,  0.0440,  ...,  0.1018,  0.0539,  0.0040],\n",
      "        [ 0.0942, -0.0933,  0.0028,  ..., -0.0138, -0.1073, -0.0668],\n",
      "        [ 0.0943, -0.0954,  0.0177,  ..., -0.0398,  0.1020, -0.0170],\n",
      "        ...,\n",
      "        [-0.0367, -0.0678, -0.0327,  ...,  0.0805, -0.0361, -0.0598],\n",
      "        [-0.0356,  0.1029,  0.0070,  ...,  0.0890, -0.0042, -0.0950],\n",
      "        [ 0.0682, -0.0097,  0.0280,  ..., -0.0346, -0.1076,  0.0308]],\n",
      "       requires_grad=True)\n"
     ]
    }
   ],
   "source": [
    "import torch\n",
    "import torch.nn as nn\n",
    "import torch.nn.functional as F\n",
    "\n",
    "\n",
    "class m(nn.MultiheadAttention):\n",
    "    def __init__(self,embed_dim, num_heads):\n",
    "        super(m, self).__init__(embed_dim,num_heads)\n",
    "        print( self.in_proj_weight.shape, self.in_proj_weight)\n",
    "\n",
    "a = m(128, 8)"
   ]
  }
 ],
 "metadata": {
  "kernelspec": {
   "display_name": "torch",
   "language": "python",
   "name": "python3"
  },
  "language_info": {
   "codemirror_mode": {
    "name": "ipython",
    "version": 3
   },
   "file_extension": ".py",
   "mimetype": "text/x-python",
   "name": "python",
   "nbconvert_exporter": "python",
   "pygments_lexer": "ipython3",
   "version": "3.10.12"
  }
 },
 "nbformat": 4,
 "nbformat_minor": 2
}
