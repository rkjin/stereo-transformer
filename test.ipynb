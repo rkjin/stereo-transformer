{
 "cells": [
  {
   "cell_type": "code",
   "execution_count": 1,
   "metadata": {},
   "outputs": [
    {
     "data": {
      "text/plain": [
       "{'a': 2, 'b': 2}"
      ]
     },
     "execution_count": 1,
     "metadata": {},
     "output_type": "execute_result"
    }
   ],
   "source": [
    "a = {\"a\": 1, \"a\":2, \"b\":2}\n",
    "a"
   ]
  },
  {
   "cell_type": "code",
   "execution_count": 4,
   "metadata": {},
   "outputs": [
    {
     "name": "stdout",
     "output_type": "stream",
     "text": [
      "['1 ft 5 in', '10 ft 2 in', '2 ft 11 in', '2 ft 7 in', '7 ft 6 in']\n",
      "['1 ft 5 in', '2 ft 7 in', '2 ft 11 in', '7 ft 6 in', '10 ft 2 in']\n",
      "['1 ft 5 in', '2 ft 2 in', '2 ft 7 in', '2 ft 11 in', '3 ft 3 in', '4 ft 4 in', '7 ft 6 in', '7 ft 7 in', '10 ft 2 in']\n"
     ]
    }
   ],
   "source": [
    "from natsort import natsorted\n",
    "a = ['2 ft 7 in', '1 ft 5 in', '10 ft 2 in', '2 ft 11 in', '7 ft 6 in']\n",
    "b = ['3 ft 3 in', '4 ft 4 in', '7 ft 7 in', '2 ft 2 in']\n",
    "print(sorted(a))\n",
    "print(natsorted(a))\n",
    "print(natsorted(a + b))"
   ]
  },
  {
   "cell_type": "code",
   "execution_count": 6,
   "metadata": {},
   "outputs": [
    {
     "ename": "TypeError",
     "evalue": "'int' object is not subscriptable",
     "output_type": "error",
     "traceback": [
      "\u001b[0;31m---------------------------------------------------------------------------\u001b[0m",
      "\u001b[0;31mTypeError\u001b[0m                                 Traceback (most recent call last)",
      "Cell \u001b[0;32mIn[6], line 3\u001b[0m\n\u001b[1;32m      1\u001b[0m a \u001b[38;5;241m=\u001b[39m {\u001b[38;5;124m'\u001b[39m\u001b[38;5;124ma\u001b[39m\u001b[38;5;124m'\u001b[39m: \u001b[38;5;241m1\u001b[39m}\n\u001b[1;32m      2\u001b[0m a \u001b[38;5;241m=\u001b[39m \u001b[38;5;241m3\u001b[39m\n\u001b[0;32m----> 3\u001b[0m \u001b[43ma\u001b[49m\u001b[43m[\u001b[49m\u001b[38;5;124;43m'\u001b[39;49m\u001b[38;5;124;43ma\u001b[39;49m\u001b[38;5;124;43m'\u001b[39;49m\u001b[43m]\u001b[49m\n",
      "\u001b[0;31mTypeError\u001b[0m: 'int' object is not subscriptable"
     ]
    }
   ],
   "source": [
    "a = {'a': 1}\n",
    "a = 3\n",
    "a['a']"
   ]
  },
  {
   "cell_type": "code",
   "execution_count": 42,
   "metadata": {},
   "outputs": [
    {
     "data": {
      "text/plain": [
       "array([[96., 96., 96., ..., 96., 96., 96.],\n",
       "       [96., 96., 96., ..., 96., 96., 96.],\n",
       "       [96., 96., 96., ..., 96., 96., 96.],\n",
       "       ...,\n",
       "       [96., 96., 96., ..., 96., 96., 96.],\n",
       "       [96., 96., 96., ..., 96., 96., 96.],\n",
       "       [96., 96., 96., ..., 96., 96., 96.]])"
      ]
     },
     "execution_count": 42,
     "metadata": {},
     "output_type": "execute_result"
    }
   ],
   "source": [
    "import torch\n",
    "from PIL import Image\n",
    "import torchvision.transforms as t\n",
    "import numpy as np\n",
    "i = torch.zeros(10000).view(100,100).float()\n",
    "i = i + 100000 \n",
    "trans = t.ToPILImage()\n",
    "i = trans(i)\n",
    "np.array(i).astype( float) \n"
   ]
  },
  {
   "cell_type": "code",
   "execution_count": 63,
   "metadata": {},
   "outputs": [
    {
     "name": "stdout",
     "output_type": "stream",
     "text": [
      "[[0 0 1 1 1]\n",
      " [1 1 0 1 0]\n",
      " [0 0 0 1 0]\n",
      " [0 1 1 0 1]\n",
      " [0 0 0 0 1]]\n",
      "[[0. 0. 0. 0. 0.]\n",
      " [0. 0. 0. 0. 0.]\n",
      " [0. 0. 0. 0. 0.]\n",
      " [0. 0. 0. 0. 0.]\n",
      " [0. 0. 0. 0. 0.]]\n",
      "[[0 0 1 1 1]\n",
      " [1 1 0 1 0]\n",
      " [0 0 0 1 0]\n",
      " [0 1 1 0 1]\n",
      " [0 0 0 0 1]]\n",
      "[[0. 0. 1. 1. 1.]\n",
      " [1. 1. 0. 1. 0.]\n",
      " [0. 0. 0. 1. 0.]\n",
      " [0. 1. 1. 0. 1.]\n",
      " [0. 0. 0. 0. 1.]]\n"
     ]
    }
   ],
   "source": [
    "import numpy as np\n",
    "i = np.arange(25).reshape(5,5) \n",
    "i[None]\n",
    "\n",
    "a = np.random.randint(2, size=25).reshape(5,5)\n",
    "b = np.zeros((5,5))\n",
    "print(a)\n",
    "print(b)\n",
    "b[a == 1] = True\n",
    "print(a)\n",
    "print(b)"
   ]
  }
 ],
 "metadata": {
  "kernelspec": {
   "display_name": "torch",
   "language": "python",
   "name": "python3"
  },
  "language_info": {
   "codemirror_mode": {
    "name": "ipython",
    "version": 3
   },
   "file_extension": ".py",
   "mimetype": "text/x-python",
   "name": "python",
   "nbconvert_exporter": "python",
   "pygments_lexer": "ipython3",
   "version": "3.10.12"
  }
 },
 "nbformat": 4,
 "nbformat_minor": 2
}
